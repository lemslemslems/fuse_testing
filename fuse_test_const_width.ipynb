{
 "cells": [
  {
   "cell_type": "markdown",
   "metadata": {},
   "source": [
    "Case 1: Constant Width"
   ]
  },
  {
   "cell_type": "markdown",
   "metadata": {},
   "source": [
    "This case describes for a nickel strip cut with a profile as such:\n",
    "\n",
    "![const width nickel strip](IMG_0744.jpg \"IMG_0747.JPG\")"
   ]
  },
  {
   "cell_type": "markdown",
   "metadata": {},
   "source": [
    "Import necessary libraries:"
   ]
  },
  {
   "cell_type": "code",
   "execution_count": 3,
   "metadata": {},
   "outputs": [],
   "source": [
    "from math import sqrt"
   ]
  },
  {
   "cell_type": "markdown",
   "metadata": {},
   "source": [
    "Define constants:"
   ]
  },
  {
   "cell_type": "code",
   "execution_count": 4,
   "metadata": {},
   "outputs": [],
   "source": [
    "I = 50.0            # current passing through the strip [A]\n",
    "rho_d = 8890.0      # density of nickel [kg/m^3]\n",
    "rho_r = 0.096e-6    # electrical resistivity of nickel [Ohm*m]\n",
    "dt = 1.0            # elapsed time [s]\n",
    "h = 0.2e-3          # nickel strip thickness [m]\n",
    "cp = 465            # sp. heat capacity of nickel [J/kgK]\n",
    "Tm = 1435           # melting point temperature of nickel [C]\n",
    "Tamb = 20           # ambient temperature [C]\n",
    "Lf = 293e3          # sp. latent heat of nickel [J/kg]"
   ]
  },
  {
   "cell_type": "markdown",
   "metadata": {},
   "source": [
    "For constant width, the calculation is straightforward. The equation can be derived as such:\n",
    "\n",
    "$$\\frac{I^2\\rho_r\\Delta{t}}{\\left(wh\\right)^2} = \\rho_d\\left(c_p\\left(T_m - T_\\infty\\right) + L_f\\right)$$\n",
    "\n",
    "Rearranging the equation, we obtain:\n",
    "\n",
    "$$w = \\sqrt{\\frac{I^2\\left(\\int_{T_{K,\\infty}}^{T_{K,m}}\\rho_r(T)dT\\right)\\Delta{t}}{h^2\\rho_d\\left(\\left(\\int_{T_{K,\\infty}}^{T_{K,m}} c_p(T) dT\\right) + L_f\\right)}}$$\n",
    "\n",
    "And we solve for $w$."
   ]
  },
  {
   "cell_type": "code",
   "execution_count": 5,
   "metadata": {},
   "outputs": [],
   "source": [
    "# import integrated functions of cp and rho_r\n",
    "from cp_vs_T import int_cp\n",
    "from rho_r_vs_T import int_rho_r"
   ]
  },
  {
   "cell_type": "code",
   "execution_count": 9,
   "metadata": {},
   "outputs": [
    {
     "name": "stdout",
     "output_type": "stream",
     "text": [
      "w = 58.465 mm\n"
     ]
    }
   ],
   "source": [
    "w = sqrt((I**2*int_rho_r(Tamb + 273.15,Tm + 273.15)*dt)/(h**2*rho_d*(int_cp(Tamb + 273.15,Tm + 273.15) + Lf)))\n",
    "print(f\"w = {w*1e3:.3f} mm\")"
   ]
  },
  {
   "cell_type": "code",
   "execution_count": 7,
   "metadata": {},
   "outputs": [
    {
     "name": "stdout",
     "output_type": "stream",
     "text": [
      "795556.9400212686\n",
      "0.0005292529011185759\n"
     ]
    }
   ],
   "source": [
    "print(int_cp(Tamb + 273.15,Tm + 273.15))\n",
    "print(int_rho_r(Tamb + 273.15,Tm + 273.15))"
   ]
  }
 ],
 "metadata": {
  "kernelspec": {
   "display_name": "base",
   "language": "python",
   "name": "python3"
  },
  "language_info": {
   "codemirror_mode": {
    "name": "ipython",
    "version": 3
   },
   "file_extension": ".py",
   "mimetype": "text/x-python",
   "name": "python",
   "nbconvert_exporter": "python",
   "pygments_lexer": "ipython3",
   "version": "3.11.5"
  }
 },
 "nbformat": 4,
 "nbformat_minor": 2
}
