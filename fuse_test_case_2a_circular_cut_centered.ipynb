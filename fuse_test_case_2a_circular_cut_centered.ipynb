{
 "cells": [
  {
   "cell_type": "markdown",
   "metadata": {},
   "source": [
    "Case 2a: Nickel strip with circular cut profile with the center of the circles on the strips"
   ]
  },
  {
   "cell_type": "markdown",
   "metadata": {},
   "source": [
    "The case describes a nickel strip having a cut profile as such:\n",
    "\n",
    "![](IMG_0745.jpg)"
   ]
  },
  {
   "cell_type": "markdown",
   "metadata": {},
   "source": [
    "With variable width profiles, we will have to modify the equation such that the total resistance takes into account the infinitesimal difference in widths, since electrical resistance is a function of cross sectional area. The equation then becomes:\n",
    "\n",
    "$$\\frac{I^2\\rho_r\\Delta{t}}{h}\\int_0^l{\\frac{1}{f(x)}dx} = \\rho_d\\int_0^l{f(x)dx}\\left(c_p\\left(T_m - T_\\infty\\right) + L_f\\right)$$\n",
    "\n",
    "Grouping the unknowns on one side and the knowns on the other, we obtain:\n",
    "\n",
    "$$\\frac{\\int_0^l{\\frac{1}{f(x)}dx}}{\\int_0^l{f(x)dx}} = \\frac{\\rho_dh^2}{I^2\\rho_r\\Delta{t}}\\left(c_p\\left(T_m - T_\\infty\\right) + L_f\\right)$$\n",
    "\n",
    "Be aware that the two integrals are different and cannot be simplified any further. "
   ]
  },
  {
   "cell_type": "markdown",
   "metadata": {},
   "source": [
    "Import necessary libraries:"
   ]
  },
  {
   "cell_type": "code",
   "execution_count": 2,
   "metadata": {},
   "outputs": [],
   "source": [
    "import numpy as np\n",
    "from math import sqrt,pi\n",
    "import matplotlib.pyplot as plt"
   ]
  },
  {
   "cell_type": "markdown",
   "metadata": {},
   "source": [
    "Define constants:"
   ]
  },
  {
   "cell_type": "code",
   "execution_count": 3,
   "metadata": {},
   "outputs": [],
   "source": [
    "I = 50.0            # current passing through the strip [A]\n",
    "rho_d = 8890.0e-9   # density of nickel [kg/mm^3]\n",
    "rho_r = 0.096e-3    # electrical resistivity of nickel [Ohm*mm]\n",
    "dt = 1.0            # elapsed time [s]\n",
    "h = 0.2             # nickel strip thickness [mm]\n",
    "w0 = 8              # nickel strip default width [mm]\n",
    "cp = 465            # sp. heat capacity of nickel [J/kgK]\n",
    "Tm = 1435           # melting point temperature of nickel [C]\n",
    "Tamb = 20           # ambient temperature [C]\n",
    "Lf = 293e3          # sp. latent heat of nickel [J/kg]"
   ]
  },
  {
   "cell_type": "markdown",
   "metadata": {},
   "source": [
    "Let $y'$ be the complementary length of $y(x)$. With the shown setup, we find $y'$ to be:\n",
    "\n",
    "$$y' = \\sqrt{r^2-\\left(r-x\\right)^2}$$\n",
    "\n",
    "and so:\n",
    "\n",
    "$$y(x,r) = r - y' = r - \\sqrt{r^2-\\left(r-x\\right)^2}$$\n",
    "\n",
    "so we have our strip width at $x$ to be:\n",
    "\n",
    "$$f(x,r) = 2(a + y) = w_0 - 2\\sqrt{r^2-\\left(r-x\\right)^2} = w_0 - 2\\sqrt{2rx - x^2}$$\n",
    "\n",
    "It is found that $\\int_0^l{\\frac{1}{f(x)}dx}$ is a non-elementary integral, and thus no analytical solution can be found. For such, we will employ numerical integration methods, specifically Simpson's Rule. Let:\n",
    "\n",
    "$$\\frac{1}{f(x,r)} = g(x,r)$$\n",
    "$$\\therefore\\int_0^l{\\frac{1}{f(x,r)}dx}\\approx G_n(r) = \\frac{l}{3n}\\left(g(0,r)+g(l,r)+2\\sum_{i = 1}^{\\frac{1}{2}n-1}g(x_{2i},r)+4\\sum_{i = 1}^{\\frac{1}{2}n}g(x_{2i-1},r)\\right)$$\n",
    "\n",
    "Where\n",
    "\n",
    "$$x_i = i\\Delta{x} = \\frac{il}{n} = \\frac{2ir}{n}$$\n",
    "$$\\therefore G_n(r) = \\frac{2r}{3n}\\left(g(0,r)+g(2r,r)+2\\sum_{i = 1}^{\\frac{1}{2}n-1}g\\left(\\frac{4ir}{n},r\\right)+4\\sum_{i = 1}^{\\frac{1}{2}n}g\\left(\\frac{(4i-2)r}{n},r\\right)\\right)$$\n",
    "\n",
    "And we solve for $r$."
   ]
  },
  {
   "cell_type": "code",
   "execution_count": 4,
   "metadata": {},
   "outputs": [],
   "source": [
    "# define function f(x) and g(x)\n",
    "\n",
    "def f(x,r):\n",
    "    if 2*r*x - x**2 <= 1e-15:\n",
    "        return w0\n",
    "    else: return w0 - 2*sqrt(2*r*x - x**2)\n",
    "def g(x,r): return 1/f(x,r)"
   ]
  },
  {
   "cell_type": "code",
   "execution_count": 5,
   "metadata": {},
   "outputs": [],
   "source": [
    "# define function of length, l(r)\n",
    "def l(r): return 2*r"
   ]
  },
  {
   "cell_type": "code",
   "execution_count": 6,
   "metadata": {},
   "outputs": [],
   "source": [
    "# define a function to perform numerical integration\n",
    "\n",
    "def simpsons(points,size,lower_bound,upper_bound):\n",
    "    result = 0\n",
    "    bound = upper_bound - lower_bound\n",
    "    delta_x = bound/size\n",
    "\n",
    "    for i in range(len(points)):\n",
    "        if i == 0 or i == size:\n",
    "            result += points[i]\n",
    "        elif i % 2 == 0:\n",
    "            result += 2*points[i]\n",
    "        else:\n",
    "            result += 4*points[i]\n",
    "\n",
    "    result = delta_x/3*result\n",
    "\n",
    "    return result"
   ]
  },
  {
   "cell_type": "markdown",
   "metadata": {},
   "source": [
    "We should also evaluate $\\int_0^l{f(x)dx}$ which gives us the area of the face of the strip, but this is easy to calculate by hand, so no need for numerical computation. The equation for volume is given by:\n",
    "\n",
    "$$V(r) = hA_{\\text{face}} = h\\left(w_0l - \\pi{}r^2\\right)$$\n",
    "\n",
    "Let:\n",
    "\n",
    "$$\\frac{G_n(r)}{\\frac{1}{h}V(r)} = H_n(r)$$\n",
    "$$K = \\frac{\\rho_dh^2}{I^2\\rho_r\\Delta{t}}\\left(c_p\\left(T_m - T_\\infty\\right) + L_f\\right)$$\n",
    "$$\\therefore H_n(r) = K$$\n",
    "\n",
    "It is also important to note that we are looking for a solution that satisfies: $2r < w_0$\n",
    "\n",
    "$$\\therefore r \\in \\left(0,\\frac{1}{2}w_0\\right)"
   ]
  },
  {
   "cell_type": "code",
   "execution_count": 7,
   "metadata": {},
   "outputs": [],
   "source": [
    "# define function of volume, V(r)\n",
    "def V(r): return w0*l(r) - pi*r**2\n",
    "\n",
    "# define lumped function H(r)\n",
    "def H(points,r,size,lower_bound,upper_bound): return simpsons(points,size,lower_bound,upper_bound)/V(r)"
   ]
  },
  {
   "cell_type": "code",
   "execution_count": 8,
   "metadata": {},
   "outputs": [],
   "source": [
    "# upper and lower limits for r\n",
    "lower_limit = 0\n",
    "upper_limit = 1/2*w0"
   ]
  },
  {
   "cell_type": "code",
   "execution_count": 9,
   "metadata": {},
   "outputs": [],
   "source": [
    "from cp_vs_T import int_cp\n",
    "from rho_r_vs_T import int_rho_r"
   ]
  },
  {
   "cell_type": "code",
   "execution_count": 13,
   "metadata": {},
   "outputs": [],
   "source": [
    "T_lower = Tamb + 273.15\n",
    "T_upper = Tm + 273.15"
   ]
  },
  {
   "cell_type": "markdown",
   "metadata": {},
   "source": [
    "We now run a convergence algorithm until we obtain an answer for r:"
   ]
  },
  {
   "cell_type": "code",
   "execution_count": 18,
   "metadata": {},
   "outputs": [
    {
     "name": "stdout",
     "output_type": "stream",
     "text": [
      "R = 3.630 mm\n"
     ]
    }
   ],
   "source": [
    "R = 2.0\n",
    "K = rho_d*h**2*(int_cp(T_lower,T_upper) + Lf)/(I**2*int_rho_r(T_lower,T_upper)*dt)\n",
    "alpha = 1\n",
    "\n",
    "# check if LHP = RHP. If not, we subtract the error and recheck until solution converges\n",
    "eps = 1e-6\n",
    "error = 1\n",
    "# k = 1\n",
    "while abs(error) > eps:\n",
    "    lower_bound = 0\n",
    "    upper_bound = l(R)\n",
    "\n",
    "    # divide to 100 equal points\n",
    "    size = 100\n",
    "    xi = np.linspace(lower_bound, upper_bound,size+1)\n",
    "\n",
    "    points = [g(xi[i],R) for i in range(len(xi))]\n",
    "    LHP = H(points,R,size, lower_bound, upper_bound)\n",
    "    error = LHP - K\n",
    "    # print(f\"error = {error}\")\n",
    "    R = R - alpha*error\n",
    "    # k += 1\n",
    "\n",
    "\n",
    "print(f\"R = {R:.3f} mm\")"
   ]
  },
  {
   "cell_type": "markdown",
   "metadata": {},
   "source": [
    "Thus, the smallest part of the strip would be: $f_{min} = w_0 - 2R$"
   ]
  },
  {
   "cell_type": "code",
   "execution_count": 19,
   "metadata": {},
   "outputs": [
    {
     "name": "stdout",
     "output_type": "stream",
     "text": [
      "f_min = 0.739 mm\n"
     ]
    }
   ],
   "source": [
    "f_min = w0 - 2*R\n",
    "print(f\"f_min = {f_min:.3f} mm\")"
   ]
  },
  {
   "cell_type": "markdown",
   "metadata": {},
   "source": [
    "As seen from above, $f_{min} = 0.079$ mm, which is impossibly small to handle. Therefore, this profile might not be a feasible design to use. "
   ]
  },
  {
   "cell_type": "markdown",
   "metadata": {},
   "source": [
    "For illustration purposes: Plot the graph of $H_n(r) - K$"
   ]
  },
  {
   "cell_type": "code",
   "execution_count": 20,
   "metadata": {},
   "outputs": [
    {
     "data": {
      "image/png": "[encoded data removed]",
      "text/plain": [
       "<Figure size 640x480 with 1 Axes>"
      ]
     },
     "metadata": {},
     "output_type": "display_data"
    }
   ],
   "source": [
    "size_x = 100\n",
    "size_r = 1000\n",
    "\n",
    "ri = np.linspace(lower_limit + 0.01, upper_limit - 0.01, size_r+1)\n",
    "points = []\n",
    "y = []\n",
    "\n",
    "for i in range(len(ri)):\n",
    "    upper_bound = l(ri[i])\n",
    "    xi = np.linspace(lower_bound, upper_bound,size_x+1)\n",
    "    \n",
    "    points_i = [g(xi[j],ri[i]) for j in range(len(xi))]\n",
    "    points.append(points_i)\n",
    "    y.append(H(points[i],ri[i],size_x,lower_bound,upper_bound) - K)\n",
    "\n",
    "points = np.array(points)\n",
    "y = np.array(y)\n",
    "\n",
    "plt.rcParams['text.usetex'] = True\n",
    "plt.plot(ri,y)\n",
    "plt.grid(1)\n",
    "plt.title(\"$H_{100}(r) - K$\")\n",
    "plt.xlabel(\"$r$ [mm]\")\n",
    "plt.show()"
   ]
  }
 ],
 "metadata": {
  "kernelspec": {
   "display_name": "base",
   "language": "python",
   "name": "python3"
  },
  "language_info": {
   "codemirror_mode": {
    "name": "ipython",
    "version": 3
   },
   "file_extension": ".py",
   "mimetype": "text/x-python",
   "name": "python",
   "nbconvert_exporter": "python",
   "pygments_lexer": "ipython3",
   "version": "3.11.5"
  }
 },
 "nbformat": 4,
 "nbformat_minor": 2
}
