{
 "cells": [
  {
   "cell_type": "markdown",
   "metadata": {},
   "source": [
    "Case 2a: Nickel strip with circular cut profile with the center of the circles on the strips"
   ]
  },
  {
   "cell_type": "markdown",
   "metadata": {},
   "source": [
    "The case describes a nickel strip having a cut profile as such:\n",
    "\n",
    "![](IMG_0745.jpg)"
   ]
  },
  {
   "cell_type": "markdown",
   "metadata": {},
   "source": [
    "With variable width profiles, we will have to modify the equation such that the total resistance takes into account the infinitesimal difference in widths, since electrical resistance is a function of cross sectional area. The equation then becomes:\n",
    "\n",
    "$$\\frac{I^2\\rho_r\\Delta{t}}{h}\\int_0^l{\\frac{1}{f(x)}dx} = \\rho_d\\int_0^l{f(x)dx}\\left(c_p\\left(T_m - T_\\infty\\right) + L_f\\right)$$\n",
    "\n",
    "Grouping the unknowns on one side and the knowns on the other, we obtain:\n",
    "\n",
    "$$\\frac{\\int_0^l{\\frac{1}{f(x)}dx}}{\\int_0^l{f(x)dx}} = \\frac{\\rho_dh^2}{I^2\\rho_r\\Delta{t}}\\left(c_p\\left(T_m - T_\\infty\\right) + L_f\\right)$$\n",
    "\n",
    "Be aware that the two integrals are different and cannot be simplified any further. "
   ]
  },
  {
   "cell_type": "markdown",
   "metadata": {},
   "source": [
    "Import necessary libraries:"
   ]
  },
  {
   "cell_type": "code",
   "execution_count": 3,
   "metadata": {},
   "outputs": [],
   "source": [
    "import numpy as np\n",
    "from math import sqrt\n",
    "from math import pi"
   ]
  },
  {
   "cell_type": "markdown",
   "metadata": {},
   "source": [
    "Define constants:"
   ]
  },
  {
   "cell_type": "code",
   "execution_count": 2,
   "metadata": {},
   "outputs": [],
   "source": [
    "I = 50.0            # current passing through the strip [A]\n",
    "rho_d = 8890.0e-9   # density of nickel [kg/mm^3]\n",
    "rho_r = 0.096e-3    # electrical resistivity of nickel [Ohm*mm]\n",
    "dt = 1.0            # elapsed time [s]\n",
    "h = 0.2             # nickel strip thickness [mm]\n",
    "w0 = 8              # nickel strip default width [mm]\n",
    "cp = 465            # sp. heat capacity of nickel [J/kgK]\n",
    "Tm = 1435           # melting point temperature of nickel [C]\n",
    "Tamb = 20           # ambient temperature [C]\n",
    "Lf = 293e3          # sp. latent heat of nickel [J/kg]"
   ]
  },
  {
   "cell_type": "markdown",
   "metadata": {},
   "source": [
    "Let $y'$ be the complementary length of $y(x)$. With the shown setup, we find $y'$ to be:\n",
    "\n",
    "$$y' = \\sqrt{r^2-\\left(r-x\\right)^2}$$\n",
    "\n",
    "and so:\n",
    "\n",
    "$$y(x,r) = r - y' = r - \\sqrt{r^2-\\left(r-x\\right)^2}$$\n",
    "\n",
    "so we have our strip width at $x$ to be:\n",
    "\n",
    "$$f(x,r) = 2(a + y) = w_0 - 2\\sqrt{r^2-\\left(r-x\\right)^2} = w_0 - 2\\sqrt{2rx - x^2}$$\n",
    "\n",
    "It is found that $\\int_0^l{\\frac{1}{f(x)}dx}$ is a non-elementary integral, and thus no analytical solution can be found. For such, we will employ numerical integration methods, specifically Simpson's Rule. Let:\n",
    "\n",
    "$$\\frac{1}{f(x,r)} = g(x,r)$$\n",
    "$$\\therefore\\int_0^l{\\frac{1}{f(x,r)}dx}\\approx G_n(r) = \\frac{l}{3n}\\left(g(0,r)+g(l,r)+2\\sum_{i = 1}^{\\frac{1}{2}n-1}g(x_{2i},r)+4\\sum_{i = 1}^{\\frac{1}{2}n}g(x_{2i-1},r)\\right)$$\n",
    "\n",
    "Where\n",
    "\n",
    "$$x_i = i\\Delta{x} = \\frac{il}{n} = \\frac{2ir}{n}$$\n",
    "$$\\therefore G_n(r) = \\frac{2r}{3n}\\left(g(0,r)+g(2r,r)+2\\sum_{i = 1}^{\\frac{1}{2}n-1}g\\left(\\frac{4ir}{n},r\\right)+4\\sum_{i = 1}^{\\frac{1}{2}n}g\\left(\\frac{(4i-2)r}{n},r\\right)\\right)$$\n",
    "\n",
    "And we solve for $r$."
   ]
  },
  {
   "cell_type": "code",
   "execution_count": 6,
   "metadata": {},
   "outputs": [],
   "source": [
    "# define function f(x) and g(x)\n",
    "\n",
    "def f(x,r): return w0 - 2*sqrt(2*r*x - x**2)\n",
    "def g(x,r): return 1/f(x,r)"
   ]
  },
  {
   "cell_type": "code",
   "execution_count": 12,
   "metadata": {},
   "outputs": [
    {
     "name": "stdout",
     "output_type": "stream",
     "text": [
      "[ 0.  1.  2.  3.  4.  5.  6.  7.  8.  9. 10.]\n"
     ]
    }
   ],
   "source": [
    "print(np.linspace(0,10,11))"
   ]
  },
  {
   "cell_type": "code",
   "execution_count": 10,
   "metadata": {},
   "outputs": [],
   "source": [
    "# define a function to perform numerical integration\n",
    "\n",
    "def simpsons(integrand,size,lower_bound,upper_bound):\n",
    "    result = 0\n",
    "    bound = upper_bound - lower_bound\n",
    "    delta_x = bound/size\n",
    "    xi = np.linspace(lower_bound, upper_bound, size+1)\n",
    "    for i in range(size+1):\n",
    "        if i == 0 or i == size:\n",
    "            result += integrand\n",
    "        elif i % 2 == 0:\n",
    "            result += 2*integrand\n",
    "        else:\n",
    "            result += 4*integrand\n",
    "\n",
    "    result = delta_x/3*result\n",
    "\n",
    "    return result"
   ]
  },
  {
   "cell_type": "code",
   "execution_count": null,
   "metadata": {},
   "outputs": [],
   "source": []
  }
 ],
 "metadata": {
  "kernelspec": {
   "display_name": "base",
   "language": "python",
   "name": "python3"
  },
  "language_info": {
   "codemirror_mode": {
    "name": "ipython",
    "version": 3
   },
   "file_extension": ".py",
   "mimetype": "text/x-python",
   "name": "python",
   "nbconvert_exporter": "python",
   "pygments_lexer": "ipython3",
   "version": "3.11.5"
  }
 },
 "nbformat": 4,
 "nbformat_minor": 2
}
