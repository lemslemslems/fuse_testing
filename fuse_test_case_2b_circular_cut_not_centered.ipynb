{
 "cells": [
  {
   "cell_type": "markdown",
   "metadata": {},
   "source": [
    "Case 2b: Nickel strip with circular cut profile but with center of circles out of the strips"
   ]
  },
  {
   "cell_type": "markdown",
   "metadata": {},
   "source": [
    "With the center of the circle not constrained to be within the strips, this opens up an extra dimension of solutions to us, albeit having it come with an extra variable to tune. The profile is as such:\n",
    "\n",
    "![](IMG_0746.jpg)\n",
    "![](IMG_0747.jpg)"
   ]
  },
  {
   "cell_type": "markdown",
   "metadata": {},
   "source": [
    "Import necessary libraries:"
   ]
  },
  {
   "cell_type": "code",
   "execution_count": 1,
   "metadata": {},
   "outputs": [],
   "source": [
    "import numpy as np\n",
    "from numpy import exp, mean\n",
    "from math import pi, sqrt, asin\n",
    "import matplotlib.pyplot as plt\n",
    "from sklearn.linear_model import LinearRegression\n",
    "from sklearn.preprocessing import PolynomialFeatures"
   ]
  },
  {
   "cell_type": "markdown",
   "metadata": {},
   "source": [
    "Define constants"
   ]
  },
  {
   "cell_type": "code",
   "execution_count": 2,
   "metadata": {},
   "outputs": [],
   "source": [
    "I = 50.0            # current passing through the strip [A]\n",
    "rho_d = 8890.0e-9   # density of nickel [kg/mm^3]\n",
    "rho_r = 0.096e-3    # electrical resistivity of nickel [Ohm*mm]\n",
    "dt = 1.0            # elapsed time [s]\n",
    "h = 0.2             # nickel strip thickness [mm]\n",
    "w0 = 8              # nickel strip default width [mm]\n",
    "cp = 465            # sp. heat capacity of nickel [J/kgK]\n",
    "Tm = 1435           # melting point temperature of nickel [C]\n",
    "Tamb = 20           # ambient temperature [C]\n",
    "Lf = 293e3          # sp. latent heat of nickel [J/kg]"
   ]
  },
  {
   "cell_type": "markdown",
   "metadata": {},
   "source": [
    "With the local and global axes placed differently, we will have to adjust our original circle equation:\n",
    "\n",
    "$$X^2 + Y^2 = r^2$$\n",
    "$$X = x, Y = y + d$$\n",
    "$$\\therefore x^2 + (y + d)^2 = r^2$$\n",
    "$$y(x,r,d) = \\sqrt{r^2 - x^2} - d,\\hspace{1cm} x \\in \\left[-\\sqrt{r^2 - d^2}, \\sqrt{r^2 - d^2}\\right]$$\n",
    "<br>\n",
    "\n",
    "$$f(x,r,d) = w_0 - 2y = w_0 + 2d - 2\\sqrt{r^2 - x^2},\\hspace{1cm} x \\in \\left[-\\sqrt{r^2 - d^2}, \\sqrt{r^2 - d^2}\\right]$$ \n",
    "\n",
    "Where $y$ is the height of the segment of the circle on the strip. At the end of the day, we solve for $d$ for each cases of $r$. From the above equation, it is easily seen that the maximum segment height, $y_m$, is equal to:\n",
    "\n",
    "$$y_m = y(0,r,d) = r - d$$\n",
    "\n",
    "Furthermore, $d$ have to respect these bounds:\n",
    "\n",
    "$$2y_m < w_0$$\n",
    "$$2(r - d) < w_0$$\n",
    "$$d > \\frac{2r - w_0}{2}$$ \n",
    "<br>\n",
    "\n",
    "$$r^2 - d^2 > 0$$\n",
    "$$d < r$$ \n",
    "<br>\n",
    "\n",
    "$$\\therefore d \\in \\left(\\frac{2r - w_0}{2}, r\\right)\n",
    "\n",
    "\n",
    "\n"
   ]
  },
  {
   "cell_type": "code",
   "execution_count": 179,
   "metadata": {},
   "outputs": [],
   "source": [
    "# define functions f(x,r,d) and g(x,r,d)\n",
    "\n",
    "def f(x,r,d, **vars): return w0 + 2*d - 2*sqrt(r**2 - x**2)\n",
    "def g(x,r,d, **vars): return 1/f(x,r,d)"
   ]
  },
  {
   "cell_type": "code",
   "execution_count": 190,
   "metadata": {},
   "outputs": [],
   "source": [
    "# define functions of lower bound and upper bounds, x0(r,d) and xf(r,d)\n",
    "\n",
    "def xf(r,d, **vars):\n",
    "    print(f\"r^2 = {r**2}\")\n",
    "    print(f\"d^2 = {d**2}\")\n",
    "    return sqrt(r**2 - d**2)\n",
    "def x0(r,d, **vars): return -xf(r,d)"
   ]
  },
  {
   "cell_type": "markdown",
   "metadata": {},
   "source": [
    "As with case 2a, we define:\n",
    "\n",
    "$$\\int_{x_0}^{x_f}{g(x,r,d) dx} \\approx G_n(r,d) =  \\frac{x_f - x_0}{3}\\left(g(x_0,r,d)+g(x_f,r,d)+2\\sum_{i = 1}^{n-2}g(x_{2i},r,d)+4\\sum_{i = 1}^{n-1}g(x_{2i-1},r,d)\\right)$$"
   ]
  },
  {
   "cell_type": "code",
   "execution_count": 5,
   "metadata": {},
   "outputs": [],
   "source": [
    "# define simpsons rule to carry out numerical integration\n",
    "# size MUST be an odd number\n",
    "# **vars are all additional arguments needed to evaluate the passed function\n",
    "\n",
    "def simpsons(function,size,lower_bound,upper_bound, **vars):\n",
    "    delta_x = (upper_bound - lower_bound)/(size - 1)\n",
    "    x = np.linspace(lower_bound,upper_bound,size)\n",
    "    points = np.array([function(x[i], **vars) for i in range(len(x))])\n",
    "\n",
    "    result = (delta_x/3)*(points[0] + points[-1] + 2*sum(points[2:size - 2:2]) + 4*sum(points[1:size - 1:2]))\n",
    "    return result"
   ]
  },
  {
   "cell_type": "code",
   "execution_count": 6,
   "metadata": {},
   "outputs": [
    {
     "name": "stdout",
     "output_type": "stream",
     "text": [
      "4.4108427377215436e-17\n"
     ]
    }
   ],
   "source": [
    "a = 0\n",
    "b = pi\n",
    "n = 11\n",
    "x = np.linspace(a,b,n)\n",
    "def k(x,r): return np.sin(x*r)\n",
    "\n",
    "I_simp = simpsons(k,n,a,b, r = 2)\n",
    "print(I_simp)\n"
   ]
  },
  {
   "cell_type": "markdown",
   "metadata": {},
   "source": [
    "To define the volume, we setup our geometry as such:\n",
    "\n",
    "![](IMG_0748.jpg)\n",
    "\n",
    "We can find out the angle $\\theta$ using the identity:\n",
    "$$\\sin{\\theta} = \\frac{x_f}{r}$$\n",
    "$$\\therefore \\theta = \\arcsin\\left({\\frac{\\sqrt{r^2 - d^2}}{r}}\\right)$$\n",
    "\n",
    "So, the area of the segment is:\n",
    "$$A = 2\\left(\\frac{r^2}{2}\\arcsin{\\left(\\frac{\\sqrt{r^2 - d^2}}{r}\\right)} - \\frac{d}{2}\\sqrt{r^2 - d^2}\\right) = r^2\\arcsin{\\left(\\frac{\\sqrt{r^2 - d^2}}{r}\\right)} - d\\sqrt{r^2 - d^2}$$\n",
    "\n",
    "The volume is then:\n",
    "$$V(r,d) = hA_{\\text{face}} = h(w_0l - 2A) = 2h(w_0 + d)\\sqrt{r^2 - d^2} - 2r^2h\\arcsin{\\left(\\frac{\\sqrt{r^2 - d^2}}{r}\\right)}$$\n",
    "\n",
    "For convenience, as done in case 2a, we leave the $h$ out of the volume function and lump it with the other constants. Redefine:\n",
    "\n",
    "$$V(r,d) = A_{\\text{face}} = (w_0l - 2A) = 2(w_0 + d)\\sqrt{r^2 - d^2} - 2r^2\\arcsin{\\left(\\frac{\\sqrt{r^2 - d^2}}{r}\\right)}$$\n",
    "$$K = \\frac{\\rho_dh^2}{I^2\\rho_r\\Delta{t}}\\left(c_p\\left(T_m - T_\\infty\\right) + L_f\\right)$$\n",
    "\n",
    "Let:\n",
    "\n",
    "$$\\frac{G_n(r,d)}{V(r,d)} - K= H_n(r,d)$$"
   ]
  },
  {
   "cell_type": "code",
   "execution_count": 7,
   "metadata": {},
   "outputs": [],
   "source": [
    "# import integrated functions of cp and rho_r\n",
    "from rho_r_vs_T import int_rho_r\n",
    "from cp_vs_T import int_cp"
   ]
  },
  {
   "cell_type": "code",
   "execution_count": 8,
   "metadata": {},
   "outputs": [],
   "source": [
    "T_lower = Tamb + 273.15\n",
    "T_upper = Tm + 273.15"
   ]
  },
  {
   "cell_type": "code",
   "execution_count": 41,
   "metadata": {},
   "outputs": [
    {
     "name": "stdout",
     "output_type": "stream",
     "text": [
      "795556.9400212686\n",
      "0.0005292529011185759\n"
     ]
    }
   ],
   "source": [
    "print(int_cp(T_lower,T_upper))\n",
    "print(int_rho_r(T_lower,T_upper))"
   ]
  },
  {
   "cell_type": "code",
   "execution_count": 187,
   "metadata": {},
   "outputs": [],
   "source": [
    "# define function of volume, V(r,d)\n",
    "def V(r,d, **vars): return 2*(w0 + d)*sqrt(r**2 - d**2) - 2*r**2*asin(sqrt(r**2 - d**2)/r)\n",
    "\n",
    "# the lumped constant\n",
    "K = rho_d*h**2*(int_cp(T_lower,T_upper) + Lf)/(I**2*int_rho_r(T_lower,T_upper)*dt)\n",
    "\n",
    "# define lumped function H(r,d)\n",
    "def H(**vars): return simpsons(**vars)/V(**vars) - K\n",
    "\n",
    "# define the first derivative of H wrt d, H_prime(r,d):\n",
    "def H_prime(delta_d,point, **vars):\n",
    "    \n",
    "    points = [point - delta_d, point + delta_d]\n",
    "    print(f\"points = {points}\")\n",
    "    lower_bounds = [x0(r,points[0]), x0(r,points[1])]\n",
    "    upper_bounds = [xf(r,points[0]), xf(r,points[1])]\n",
    "\n",
    "    a = H(d = points[1], lower_bound = lower_bounds[1], upper_bound = upper_bounds[1], **vars)\n",
    "    b = H(d = points[0], lower_bound = lower_bounds[0], upper_bound = upper_bounds[0],  **vars)\n",
    "    \n",
    "    return (a - b)/(2*delta_d)\n",
    "    \n",
    "    "
   ]
  },
  {
   "cell_type": "code",
   "execution_count": 10,
   "metadata": {},
   "outputs": [],
   "source": [
    "# define the upper and lower limits for d, ul(r) and ll(r)\n",
    "\n",
    "def ll(r): return (2*r - w0)/2\n",
    "def ul(r): return r"
   ]
  },
  {
   "cell_type": "markdown",
   "metadata": {},
   "source": [
    "Finding the exact bounds for $r$ is challenging, but a conservative bound would follow:\n",
    "$$2y_m < w_0$$\n",
    "$$\\therefore r \\geq \\frac{1}{2}w_0"
   ]
  },
  {
   "cell_type": "markdown",
   "metadata": {},
   "source": [
    "We now run a convergence algorithm for finding $d$:"
   ]
  },
  {
   "cell_type": "code",
   "execution_count": 45,
   "metadata": {},
   "outputs": [
    {
     "name": "stdout",
     "output_type": "stream",
     "text": [
      "R = 4.0\n",
      "d = 3.9\n",
      "error = -0.2763949748902357\n",
      "slope = 0.07292164176455751\n",
      "d = 3.9276394974890234\n",
      "error = -0.27654643612278773\n",
      "slope = 0.10285430417185268\n",
      "d = 3.955294141101302\n",
      "error = -0.27669551268364173\n",
      "slope = 0.16973054610438484\n",
      "d = 3.9829636923696663\n",
      "error = -0.27684225593254724\n",
      "slope = 0.4536394509348436\n",
      "d = 4.010647917962921\n"
     ]
    },
    {
     "ename": "ValueError",
     "evalue": "math domain error",
     "output_type": "error",
     "traceback": [
      "\u001b[1;31m---------------------------------------------------------------------------\u001b[0m",
      "\u001b[1;31mValueError\u001b[0m                                Traceback (most recent call last)",
      "Cell \u001b[1;32mIn[45], line 25\u001b[0m\n\u001b[0;32m     22\u001b[0m \u001b[38;5;28;01mwhile\u001b[39;00m \u001b[38;5;28mabs\u001b[39m(error) \u001b[38;5;241m>\u001b[39m eps:\n\u001b[0;32m     23\u001b[0m     \u001b[38;5;28mprint\u001b[39m(\u001b[38;5;124mf\u001b[39m\u001b[38;5;124m\"\u001b[39m\u001b[38;5;124md = \u001b[39m\u001b[38;5;132;01m{\u001b[39;00md\u001b[38;5;132;01m}\u001b[39;00m\u001b[38;5;124m\"\u001b[39m)\n\u001b[1;32m---> 25\u001b[0m     error \u001b[38;5;241m=\u001b[39m H(g,size_x,x0(R[i],d), xf(R[i],d), r \u001b[38;5;241m=\u001b[39m R[i], d \u001b[38;5;241m=\u001b[39m d)\n\u001b[0;32m     26\u001b[0m     slope \u001b[38;5;241m=\u001b[39m H_prime(lower_limit,upper_limit,size_h,d, function \u001b[38;5;241m=\u001b[39m g, size \u001b[38;5;241m=\u001b[39m size_x, lower_bound \u001b[38;5;241m=\u001b[39m x0(R[i],d), upper_bound \u001b[38;5;241m=\u001b[39m xf(R[i],d), r \u001b[38;5;241m=\u001b[39m R[i])\n\u001b[0;32m     28\u001b[0m     \u001b[38;5;66;03m# only let step size get smaller, not bigger\u001b[39;00m\n",
      "Cell \u001b[1;32mIn[36], line 8\u001b[0m, in \u001b[0;36mH\u001b[1;34m(function, size, lower_bound, upper_bound, **vars)\u001b[0m\n\u001b[0;32m      5\u001b[0m K \u001b[38;5;241m=\u001b[39m rho_d\u001b[38;5;241m*\u001b[39mh\u001b[38;5;241m*\u001b[39m\u001b[38;5;241m*\u001b[39m\u001b[38;5;241m2\u001b[39m\u001b[38;5;241m*\u001b[39m(int_cp(T_lower,T_upper) \u001b[38;5;241m+\u001b[39m Lf)\u001b[38;5;241m/\u001b[39m(I\u001b[38;5;241m*\u001b[39m\u001b[38;5;241m*\u001b[39m\u001b[38;5;241m2\u001b[39m\u001b[38;5;241m*\u001b[39mint_rho_r(T_lower,T_upper)\u001b[38;5;241m*\u001b[39mdt)\n\u001b[0;32m      7\u001b[0m \u001b[38;5;66;03m# define lumped function H(r,d)\u001b[39;00m\n\u001b[1;32m----> 8\u001b[0m \u001b[38;5;28;01mdef\u001b[39;00m \u001b[38;5;21mH\u001b[39m(function,size,lower_bound,upper_bound, \u001b[38;5;241m*\u001b[39m\u001b[38;5;241m*\u001b[39m\u001b[38;5;28mvars\u001b[39m): \u001b[38;5;28;01mreturn\u001b[39;00m simpsons(function,size,lower_bound,upper_bound, \u001b[38;5;241m*\u001b[39m\u001b[38;5;241m*\u001b[39m\u001b[38;5;28mvars\u001b[39m)\u001b[38;5;241m/\u001b[39mV(\u001b[38;5;241m*\u001b[39m\u001b[38;5;241m*\u001b[39m\u001b[38;5;28mvars\u001b[39m) \u001b[38;5;241m-\u001b[39m K\n\u001b[0;32m     10\u001b[0m \u001b[38;5;66;03m# define the first derivative of H wrt d, H_prime(r,d):\u001b[39;00m\n\u001b[0;32m     11\u001b[0m \u001b[38;5;28;01mdef\u001b[39;00m \u001b[38;5;21mH_prime\u001b[39m(lower_limit,upper_limit,size_h,point, \u001b[38;5;241m*\u001b[39m\u001b[38;5;241m*\u001b[39m\u001b[38;5;28mvars\u001b[39m):\n",
      "Cell \u001b[1;32mIn[36], line 2\u001b[0m, in \u001b[0;36mV\u001b[1;34m(r, d)\u001b[0m\n\u001b[1;32m----> 2\u001b[0m \u001b[38;5;28;01mdef\u001b[39;00m \u001b[38;5;21mV\u001b[39m(r,d): \u001b[38;5;28;01mreturn\u001b[39;00m \u001b[38;5;241m2\u001b[39m\u001b[38;5;241m*\u001b[39m(w0 \u001b[38;5;241m+\u001b[39m d)\u001b[38;5;241m*\u001b[39msqrt(r\u001b[38;5;241m*\u001b[39m\u001b[38;5;241m*\u001b[39m\u001b[38;5;241m2\u001b[39m \u001b[38;5;241m-\u001b[39m d\u001b[38;5;241m*\u001b[39m\u001b[38;5;241m*\u001b[39m\u001b[38;5;241m2\u001b[39m) \u001b[38;5;241m-\u001b[39m \u001b[38;5;241m2\u001b[39m\u001b[38;5;241m*\u001b[39mr\u001b[38;5;241m*\u001b[39m\u001b[38;5;241m*\u001b[39m\u001b[38;5;241m2\u001b[39m\u001b[38;5;241m*\u001b[39masin(sqrt(r\u001b[38;5;241m*\u001b[39m\u001b[38;5;241m*\u001b[39m\u001b[38;5;241m2\u001b[39m \u001b[38;5;241m-\u001b[39m d\u001b[38;5;241m*\u001b[39m\u001b[38;5;241m*\u001b[39m\u001b[38;5;241m2\u001b[39m)\u001b[38;5;241m/\u001b[39mr)\n",
      "\u001b[1;31mValueError\u001b[0m: math domain error"
     ]
    }
   ],
   "source": [
    "# list of R to be tested\n",
    "step = 1\n",
    "R = np.arange(1/2*w0,100+step,step)\n",
    "D = np.zeros(len(R))\n",
    "\n",
    "# convergence algorithm using Newton-Raphson method, but modified a tiny bit\n",
    "eps = 1e-6\n",
    "size_x = 101            # divide x into 101 points with equal space in between\n",
    "size_h = 5000           # divide d (for H prime) into 5000 points\n",
    "alpha = 0.1\n",
    "\n",
    "for i in range(len(R)):\n",
    "    print(f\"R = {R[i]}\")\n",
    "\n",
    "    error = 1   # initial error so that we enter the loop\n",
    "\n",
    "    upper_limit = ul(R[i])\n",
    "    lower_limit = ll(R[i])\n",
    "\n",
    "    d = lower_limit + 0.1\n",
    "\n",
    "    while abs(error) > eps:\n",
    "        print(f\"d = {d}\")\n",
    "        var_dict = {\"function\": g, \"size\": size_x, \"lower_bound\": x0(R[i],d), \"upper_bound\": xf(R[i],d), \"r\": R[i]}\n",
    "\n",
    "        error = H(**var_dict, d = d)\n",
    "        slope = H_prime(lower_limit,upper_limit,size_h,d, **var_dict)\n",
    "\n",
    "        # only let step size get smaller, not bigger\n",
    "        if 1/abs(slope) > alpha: gamma = alpha*slope/abs(slope)*error\n",
    "        else: gamma = error/slope\n",
    "\n",
    "        print(f\"error = {error}\")\n",
    "        print(f\"slope = {slope}\")\n",
    "\n",
    "        d -= gamma\n",
    "        \n",
    "    print(f\"d = {d}\")\n",
    "    D[i] = d\n",
    "\n",
    "\n"
   ]
  },
  {
   "cell_type": "code",
   "execution_count": 189,
   "metadata": {},
   "outputs": [
    {
     "name": "stdout",
     "output_type": "stream",
     "text": [
      "R = 4.0\n",
      "dm = 3.9\n",
      "points = [0.099999, 0.100001]\n",
      "points = [0.17755002040816328, 0.17755202040816329]\n",
      "points = [0.25510104081632656, 0.2551030408163265]\n",
      "points = [0.3326520612244898, 0.33265406122448976]\n",
      "points = [0.4102030816326531, 0.41020508163265307]\n",
      "points = [0.4877541020408163, 0.48775610204081626]\n",
      "points = [0.5653051224489796, 0.5653071224489796]\n",
      "points = [0.6428561428571428, 0.6428581428571428]\n",
      "points = [0.7204071632653061, 0.7204091632653061]\n",
      "points = [0.7979581836734694, 0.7979601836734694]\n",
      "points = [0.8755092040816326, 0.8755112040816326]\n",
      "points = [0.9530602244897959, 0.9530622244897959]\n",
      "points = [1.0306112448979594, 1.0306132448979592]\n",
      "points = [1.1081622653061227, 1.1081642653061226]\n",
      "points = [1.1857132857142858, 1.1857152857142856]\n",
      "points = [1.263264306122449, 1.263266306122449]\n",
      "points = [1.3408153265306124, 1.3408173265306123]\n",
      "points = [1.4183663469387757, 1.4183683469387756]\n",
      "points = [1.495917367346939, 1.4959193673469389]\n",
      "points = [1.5734683877551021, 1.573470387755102]\n",
      "points = [1.6510194081632654, 1.6510214081632653]\n",
      "points = [1.7285704285714287, 1.7285724285714286]\n",
      "points = [1.806121448979592, 1.8061234489795919]\n",
      "points = [1.8836724693877553, 1.8836744693877552]\n",
      "points = [1.9612234897959187, 1.9612254897959185]\n",
      "points = [2.0387745102040813, 2.0387765102040816]\n",
      "points = [2.116325530612245, 2.1163275306122453]\n",
      "points = [2.193876551020408, 2.193878551020408]\n",
      "points = [2.271427571428571, 2.2714295714285715]\n",
      "points = [2.3489785918367345, 2.348980591836735]\n",
      "points = [2.426529612244898, 2.426531612244898]\n",
      "points = [2.504080632653061, 2.5040826326530614]\n",
      "points = [2.5816316530612244, 2.5816336530612247]\n",
      "points = [2.6591826734693877, 2.659184673469388]\n",
      "points = [2.736733693877551, 2.7367356938775513]\n",
      "points = [2.8142847142857144, 2.8142867142857146]\n",
      "points = [2.8918357346938777, 2.891837734693878]\n",
      "points = [2.969386755102041, 2.9693887551020413]\n",
      "points = [3.046937775510204, 3.046939775510204]\n",
      "points = [3.124488795918367, 3.1244907959183674]\n",
      "points = [3.2020398163265305, 3.2020418163265307]\n",
      "points = [3.2795908367346938, 3.279592836734694]\n",
      "points = [3.357141857142857, 3.3571438571428573]\n",
      "points = [3.4346928775510204, 3.4346948775510207]\n",
      "points = [3.5122438979591837, 3.512245897959184]\n",
      "points = [3.589794918367347, 3.5897969183673473]\n",
      "points = [3.6673459387755103, 3.6673479387755106]\n",
      "points = [3.7448969591836736, 3.744898959183674]\n",
      "points = [3.822447979591837, 3.822449979591837]\n",
      "points = [3.8999989999999998, 3.900001]\n",
      "R = 5.959183673469388\n",
      "dm = 5.8591836734693885\n",
      "points = [2.059182673469388, 2.0591846734693884]\n",
      "points = [2.1367336938775514, 2.1367356938775517]\n",
      "points = [2.2142847142857147, 2.214286714285715]\n",
      "points = [2.291835734693878, 2.2918377346938783]\n",
      "points = [2.3693867551020413, 2.3693887551020416]\n",
      "points = [2.4469377755102046, 2.446939775510205]\n",
      "points = [2.5244887959183675, 2.524490795918368]\n",
      "points = [2.602039816326531, 2.602041816326531]\n",
      "points = [2.679590836734694, 2.6795928367346944]\n",
      "points = [2.7571418571428574, 2.7571438571428577]\n",
      "points = [2.8346928775510207, 2.834694877551021]\n",
      "points = [2.912243897959184, 2.9122458979591843]\n",
      "points = [2.9897949183673473, 2.9897969183673476]\n",
      "points = [3.0673459387755106, 3.067347938775511]\n",
      "points = [3.144896959183674, 3.1448989591836742]\n",
      "points = [3.222447979591837, 3.222449979591837]\n",
      "points = [3.2999990000000006, 3.300001000000001]\n",
      "points = [3.3775500204081634, 3.3775520204081637]\n",
      "points = [3.455101040816327, 3.4551030408163275]\n",
      "points = [3.53265206122449, 3.5326540612244903]\n",
      "points = [3.6102030816326534, 3.6102050816326536]\n",
      "points = [3.6877541020408167, 3.687756102040817]\n",
      "points = [3.76530512244898, 3.7653071224489802]\n",
      "points = [3.8428561428571433, 3.8428581428571436]\n",
      "points = [3.9204071632653066, 3.920409163265307]\n",
      "points = [3.99795818367347, 3.99796018367347]\n",
      "points = [4.075509204081633, 4.075511204081633]\n"
     ]
    },
    {
     "ename": "ValueError",
     "evalue": "math domain error",
     "output_type": "error",
     "traceback": [
      "\u001b[1;31m---------------------------------------------------------------------------\u001b[0m",
      "\u001b[1;31mValueError\u001b[0m                                Traceback (most recent call last)",
      "Cell \u001b[1;32mIn[189], line 28\u001b[0m\n\u001b[0;32m     25\u001b[0m     var_dict_prime \u001b[38;5;241m=\u001b[39m {\u001b[38;5;124m\"\u001b[39m\u001b[38;5;124mfunction\u001b[39m\u001b[38;5;124m\"\u001b[39m: g, \u001b[38;5;124m\"\u001b[39m\u001b[38;5;124msize\u001b[39m\u001b[38;5;124m\"\u001b[39m: size_x, \u001b[38;5;124m\"\u001b[39m\u001b[38;5;124mr\u001b[39m\u001b[38;5;124m\"\u001b[39m: R[i], \u001b[38;5;124m\"\u001b[39m\u001b[38;5;124mdelta_d\u001b[39m\u001b[38;5;124m\"\u001b[39m: \u001b[38;5;241m1e-6\u001b[39m}\n\u001b[0;32m     27\u001b[0m     set_points\u001b[38;5;241m.\u001b[39mappend(H(\u001b[38;5;241m*\u001b[39m\u001b[38;5;241m*\u001b[39mvar_dict))\n\u001b[1;32m---> 28\u001b[0m     set_points_prime\u001b[38;5;241m.\u001b[39mappend(H_prime(point \u001b[38;5;241m=\u001b[39m set_D[j], \u001b[38;5;241m*\u001b[39m\u001b[38;5;241m*\u001b[39mvar_dict_prime))\n\u001b[0;32m     30\u001b[0m points\u001b[38;5;241m.\u001b[39mappend(set_points)\n\u001b[0;32m     31\u001b[0m points_prime\u001b[38;5;241m.\u001b[39mappend(set_points_prime)\n",
      "Cell \u001b[1;32mIn[187], line 15\u001b[0m, in \u001b[0;36mH_prime\u001b[1;34m(delta_d, point, **vars)\u001b[0m\n\u001b[0;32m     13\u001b[0m points \u001b[38;5;241m=\u001b[39m [point \u001b[38;5;241m-\u001b[39m delta_d, point \u001b[38;5;241m+\u001b[39m delta_d]\n\u001b[0;32m     14\u001b[0m \u001b[38;5;28mprint\u001b[39m(\u001b[38;5;124mf\u001b[39m\u001b[38;5;124m\"\u001b[39m\u001b[38;5;124mpoints = \u001b[39m\u001b[38;5;132;01m{\u001b[39;00mpoints\u001b[38;5;132;01m}\u001b[39;00m\u001b[38;5;124m\"\u001b[39m)\n\u001b[1;32m---> 15\u001b[0m lower_bounds \u001b[38;5;241m=\u001b[39m [x0(r,points[\u001b[38;5;241m0\u001b[39m]), x0(r,points[\u001b[38;5;241m1\u001b[39m])]\n\u001b[0;32m     16\u001b[0m upper_bounds \u001b[38;5;241m=\u001b[39m [xf(r,points[\u001b[38;5;241m0\u001b[39m]), xf(r,points[\u001b[38;5;241m1\u001b[39m])]\n\u001b[0;32m     18\u001b[0m a \u001b[38;5;241m=\u001b[39m H(d \u001b[38;5;241m=\u001b[39m points[\u001b[38;5;241m1\u001b[39m], lower_bound \u001b[38;5;241m=\u001b[39m lower_bounds[\u001b[38;5;241m1\u001b[39m], upper_bound \u001b[38;5;241m=\u001b[39m upper_bounds[\u001b[38;5;241m1\u001b[39m], \u001b[38;5;241m*\u001b[39m\u001b[38;5;241m*\u001b[39m\u001b[38;5;28mvars\u001b[39m)\n",
      "Cell \u001b[1;32mIn[180], line 4\u001b[0m, in \u001b[0;36mx0\u001b[1;34m(r, d, **vars)\u001b[0m\n\u001b[1;32m----> 4\u001b[0m \u001b[38;5;28;01mdef\u001b[39;00m \u001b[38;5;21mx0\u001b[39m(r,d, \u001b[38;5;241m*\u001b[39m\u001b[38;5;241m*\u001b[39m\u001b[38;5;28mvars\u001b[39m): \u001b[38;5;28;01mreturn\u001b[39;00m \u001b[38;5;241m-\u001b[39mxf(r,d)\n",
      "Cell \u001b[1;32mIn[180], line 3\u001b[0m, in \u001b[0;36mxf\u001b[1;34m(r, d, **vars)\u001b[0m\n\u001b[0;32m      1\u001b[0m \u001b[38;5;66;03m# define functions of lower bound and upper bounds, x0(r,d) and xf(r,d)\u001b[39;00m\n\u001b[1;32m----> 3\u001b[0m \u001b[38;5;28;01mdef\u001b[39;00m \u001b[38;5;21mxf\u001b[39m(r,d, \u001b[38;5;241m*\u001b[39m\u001b[38;5;241m*\u001b[39m\u001b[38;5;28mvars\u001b[39m): \u001b[38;5;28;01mreturn\u001b[39;00m sqrt(r\u001b[38;5;241m*\u001b[39m\u001b[38;5;241m*\u001b[39m\u001b[38;5;241m2\u001b[39m \u001b[38;5;241m-\u001b[39m d\u001b[38;5;241m*\u001b[39m\u001b[38;5;241m*\u001b[39m\u001b[38;5;241m2\u001b[39m)\n\u001b[0;32m      4\u001b[0m \u001b[38;5;28;01mdef\u001b[39;00m \u001b[38;5;21mx0\u001b[39m(r,d, \u001b[38;5;241m*\u001b[39m\u001b[38;5;241m*\u001b[39m\u001b[38;5;28mvars\u001b[39m): \u001b[38;5;28;01mreturn\u001b[39;00m \u001b[38;5;241m-\u001b[39mxf(r,d)\n",
      "\u001b[1;31mValueError\u001b[0m: math domain error"
     ]
    }
   ],
   "source": [
    "eps = 1e-6\n",
    "i = 2\n",
    "R = np.linspace(4,100)\n",
    "size = 101\n",
    "size_h = 10\n",
    "points = []\n",
    "points_prime = []\n",
    "D = []\n",
    "\n",
    "for i in range(len(R)):\n",
    "    print(f\"R = {R[i]}\")\n",
    "    set_points = []\n",
    "    set_points_prime = []\n",
    "\n",
    "    lower_limit = ll(R[i])\n",
    "    upper_limit = ul(R[i])\n",
    "    set_D = np.linspace(lower_limit + 0.1 ,upper_limit - 0.1)\n",
    "    print(f\"dm = {set_D[-1]}\")\n",
    "    D.append(set_D)\n",
    "\n",
    "    for j in range(len(set_D)):\n",
    "        var_dict = {\"function\": g, \"size\": size_x, \"r\": R[i], \"d\": set_D[j],\n",
    "                     \"lower_bound\": x0(R[i],set_D[j]), \"upper_bound\": xf(R[i],set_D[j])}\n",
    "        \n",
    "        var_dict_prime = {\"function\": g, \"size\": size_x, \"r\": R[i], \"delta_d\": 1e-6}\n",
    "        \n",
    "        set_points.append(H(**var_dict))\n",
    "        set_points_prime.append(H_prime(point = set_D[j], **var_dict_prime))\n",
    "\n",
    "    points.append(set_points)\n",
    "    points_prime.append(set_points_prime)\n",
    "    \n",
    "points = np.array(points)\n",
    "points_prime = np.array(points_prime)\n",
    "D = np.array(D)\n",
    "\n"
   ]
  },
  {
   "cell_type": "code",
   "execution_count": 177,
   "metadata": {},
   "outputs": [
    {
     "name": "stdout",
     "output_type": "stream",
     "text": [
      "28.367772152292265\n"
     ]
    }
   ],
   "source": [
    "var_dict = {\"function\": g, \"size\": size_x, \"r\": 4, \"delta_d\": 0.1, \"d\": 3.5}\n",
    "print(V(**var_dict))"
   ]
  },
  {
   "cell_type": "code",
   "execution_count": 121,
   "metadata": {},
   "outputs": [
    {
     "name": "stdout",
     "output_type": "stream",
     "text": [
      "4.0\n"
     ]
    },
    {
     "data": {
      "image/png": "[encoded data removed]",
      "text/plain": [
       "<Figure size 640x480 with 1 Axes>"
      ]
     },
     "metadata": {},
     "output_type": "display_data"
    }
   ],
   "source": [
    "print(R[0])\n",
    "plt.plot(D[0],points[0])\n",
    "plt.plot(D[0], points_prime[0])\n",
    "plt.ylim(bottom = -1)\n",
    "plt.vlines(3.5,-1,1, color = \"red\")\n",
    "plt.grid(1)\n",
    "plt.show()"
   ]
  },
  {
   "cell_type": "code",
   "execution_count": 139,
   "metadata": {},
   "outputs": [
    {
     "name": "stdout",
     "output_type": "stream",
     "text": [
      "-0.2739579551968485\n",
      "-0.273815792323739\n",
      "-0.0007108143655476518\n",
      "delta x = 0.01\n",
      "points = [3.49, 3.51]\n",
      "a = -0.2739579551968485\n",
      "b = -0.273815792323739\n",
      "-0.007108143655476518\n"
     ]
    }
   ],
   "source": [
    "var_dict1 = {\"function\": g, \"size\": size_x, \"lower_bound\": x0(4,3.51), \"upper_bound\": xf(4,3.51), \"r\": 4}\n",
    "var_dict2 = {\"function\": g, \"size\": size_x, \"lower_bound\": x0(4,3.49), \"upper_bound\": xf(4,3.49), \"r\": 4}\n",
    "var_dict = {\"function\": g, \"size\": size_x, \"r\": 4}\n",
    "a = H(**var_dict1, d = 3.51)\n",
    "b = H(**var_dict2, d = 3.49)\n",
    "print(a)\n",
    "print(b)\n",
    "print((a-b)/0.2)\n",
    "print(H_prime(ll(4),ul(4),400,3.5,**var_dict))\n"
   ]
  },
  {
   "cell_type": "markdown",
   "metadata": {},
   "source": [
    "If we plot these outputs, it mysteriously plots a straight line:"
   ]
  },
  {
   "cell_type": "code",
   "execution_count": null,
   "metadata": {},
   "outputs": [],
   "source": [
    "plt.rcParams['text.usetex'] = 1"
   ]
  },
  {
   "cell_type": "code",
   "execution_count": null,
   "metadata": {},
   "outputs": [
    {
     "data": {
      "image/png": "[encoded data removed]",
      "text/plain": [
       "<Figure size 640x480 with 1 Axes>"
      ]
     },
     "metadata": {},
     "output_type": "display_data"
    }
   ],
   "source": [
    "plt.plot(R,D)\n",
    "plt.grid(1)\n",
    "plt.xlabel(\"$r$ [mm]\")\n",
    "plt.ylabel(\"$d$ [mm]\")\n",
    "plt.show()"
   ]
  },
  {
   "cell_type": "markdown",
   "metadata": {},
   "source": [
    "If we run a linear regression through the plots, we obtain:"
   ]
  },
  {
   "cell_type": "code",
   "execution_count": null,
   "metadata": {},
   "outputs": [
    {
     "name": "stdout",
     "output_type": "stream",
     "text": [
      "d = (1.000)R + (-3.985)\n",
      "R2 score = 0.9999999884673357\n",
      "MSE = 9.04044861909952e-06\n"
     ]
    }
   ],
   "source": [
    "R = R.reshape(-1,1)\n",
    "D = D.reshape(-1,1)\n",
    "\n",
    "model = LinearRegression()\n",
    "model.fit(R,D)\n",
    "\n",
    "D_pred = model.predict(R)\n",
    "\n",
    "print(f\"d = ({model.coef_[0][0]:.3f})R + ({model.intercept_[0]:.3f})\")\n",
    "print(f\"R2 score = {model.score(R,D)}\")\n",
    "\n",
    "MSE_lin = mean((D_pred - D)**2)\n",
    "print(f\"MSE = {MSE_lin}\")"
   ]
  },
  {
   "cell_type": "markdown",
   "metadata": {},
   "source": [
    "Well, _almost_ linear. But even if it seems like the model has an incredibly high accuracy, the solution is pretty off from the real one for $R < 8$ mm:"
   ]
  },
  {
   "cell_type": "code",
   "execution_count": null,
   "metadata": {},
   "outputs": [
    {
     "data": {
      "image/png": "[encoded data removed]",
      "text/plain": [
       "<Figure size 640x480 with 1 Axes>"
      ]
     },
     "metadata": {},
     "output_type": "display_data"
    }
   ],
   "source": [
    "diff = D - D_pred\n",
    "plt.plot(R,diff)\n",
    "plt.title(\"$R$ vs.$\\\\varepsilon$\")\n",
    "plt.xlabel(\"$R$ [mm]\")\n",
    "plt.ylabel(\"$\\\\varepsilon = d_{actual} - d_{pred}$\")\n",
    "plt.grid(1)\n",
    "plt.show()"
   ]
  },
  {
   "cell_type": "markdown",
   "metadata": {},
   "source": [
    "The graph below illustrates this better:"
   ]
  },
  {
   "cell_type": "code",
   "execution_count": null,
   "metadata": {},
   "outputs": [
    {
     "data": {
      "image/png": "[encoded data removed]",
      "text/plain": [
       "<Figure size 640x480 with 1 Axes>"
      ]
     },
     "metadata": {},
     "output_type": "display_data"
    }
   ],
   "source": [
    "plt.plot(R[0:15],D[0:15])\n",
    "plt.plot(R[0:15],D_pred[0:15])\n",
    "plt.grid(1)\n",
    "plt.legend([\"actual\", \"predicted\"])\n",
    "plt.yscale('log')\n",
    "plt.show()"
   ]
  },
  {
   "cell_type": "markdown",
   "metadata": {},
   "source": [
    "Thus, we can conclude that the relationship between the radii of the circle cutouts and the depth of which the center of the circles are away from the edge of the strip is:\n",
    "\n",
    "$$d(R) = R -3.989mm, \\hspace{1cm} R \\geq 8mm$$\n",
    "\n",
    "And so the smallest part of the strip is given by:\n",
    "\n",
    "$$\\text{fuse width} = w_0 - 2y_m = w_0 - 2(r - d) $$\n",
    "\n",
    "This cancels out $R$ and leaves the fuse width a definite answer:\n",
    "\n",
    "$$\\text{fuse width}  = 0.204 mm,\\hspace{1cm} R \\geq 8mm$$\n",
    "\n",
    "Which is a more feasible option than with case 2a, but still a really small width. This design might also not be a comfortable design."
   ]
  }
 ],
 "metadata": {
  "kernelspec": {
   "display_name": "base",
   "language": "python",
   "name": "python3"
  },
  "language_info": {
   "codemirror_mode": {
    "name": "ipython",
    "version": 3
   },
   "file_extension": ".py",
   "mimetype": "text/x-python",
   "name": "python",
   "nbconvert_exporter": "python",
   "pygments_lexer": "ipython3",
   "version": "3.11.5"
  }
 },
 "nbformat": 4,
 "nbformat_minor": 2
}
