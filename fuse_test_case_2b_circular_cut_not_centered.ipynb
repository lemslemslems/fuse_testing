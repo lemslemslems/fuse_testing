{
 "cells": [
  {
   "cell_type": "markdown",
   "metadata": {},
   "source": [
    "Case 2b: Nickel strip with circular cut profile but with center of circles out of the strips"
   ]
  },
  {
   "cell_type": "markdown",
   "metadata": {},
   "source": [
    "With the center of the circle not constrained to be within the strips, this opens up an extra dimension of solutions to us, albeit having it come with an extra variable to tune. The profile is as such:\n",
    "\n",
    "![](IMG_0746.jpg)\n",
    "![](IMG_0747.jpg)"
   ]
  },
  {
   "cell_type": "markdown",
   "metadata": {},
   "source": [
    "Import necessary libraries:"
   ]
  },
  {
   "cell_type": "code",
   "execution_count": 1,
   "metadata": {},
   "outputs": [],
   "source": [
    "import numpy as np\n",
    "from math import pi, sqrt, asin\n",
    "import matplotlib.pyplot as plt"
   ]
  },
  {
   "cell_type": "markdown",
   "metadata": {},
   "source": [
    "Define constants"
   ]
  },
  {
   "cell_type": "code",
   "execution_count": 37,
   "metadata": {},
   "outputs": [],
   "source": [
    "I = 50.0            # current passing through the strip [A]\n",
    "rho_d = 8890.0e-9   # density of nickel [kg/mm^3]\n",
    "rho_r = 0.096e-3    # electrical resistivity of nickel [Ohm*mm]\n",
    "dt = 1.0            # elapsed time [s]\n",
    "h = 0.2             # nickel strip thickness [mm]\n",
    "w0 = 8              # nickel strip default width [mm]\n",
    "cp = 465            # sp. heat capacity of nickel [J/kgK]\n",
    "Tm = 1435           # melting point temperature of nickel [C]\n",
    "Tamb = 20           # ambient temperature [C]\n",
    "Lf = 293e3          # sp. latent heat of nickel [J/kg]"
   ]
  },
  {
   "cell_type": "markdown",
   "metadata": {},
   "source": [
    "With the local and global axes placed differently, we will have to adjust our original circle equation:\n",
    "\n",
    "$$X^2 + Y^2 = r^2$$\n",
    "$$X = x, Y = y + d$$\n",
    "$$\\therefore x^2 + (y + d)^2 = r^2$$\n",
    "$$y(x,r,d) = \\sqrt{r^2 - x^2} - d,\\hspace{1cm} x \\in \\left[-\\sqrt{r^2 - d^2}, \\sqrt{r^2 - d^2}\\right]$$\n",
    "<br>\n",
    "\n",
    "$$f(x,r,d) = w_0 - 2y = w_0 + 2d - 2\\sqrt{r^2 - x^2},\\hspace{1cm} x \\in \\left[-\\sqrt{r^2 - d^2}, \\sqrt{r^2 - d^2}\\right]$$ \n",
    "\n",
    "Where $y$ is the height of the segment of the circle on the strip. At the end of the day, we solve for $d$ for each cases of $r$. From the above equation, it is easily seen that the maximum segment height, $y_m$, is equal to:\n",
    "\n",
    "$$y_m = y(0,r,d) = r - d$$\n",
    "\n",
    "Furthermore, $d$ have to respect these bounds:\n",
    "\n",
    "$$2y_m \\leq w_0$$\n",
    "$$2(r - d) \\leq w_0$$\n",
    "$$d \\geq \\frac{2r - w_0}{2}$$ \n",
    "<br>\n",
    "\n",
    "$$r^2 - d^2 \\geq 0$$\n",
    "$$d \\leq r$$ \n",
    "<br>\n",
    "\n",
    "$$\\therefore d \\in \\left[\\frac{2r - w_0}{2}, r\\right]\n",
    "\n",
    "\n",
    "\n"
   ]
  },
  {
   "cell_type": "code",
   "execution_count": 2,
   "metadata": {},
   "outputs": [],
   "source": [
    "# define functions f(x,r,d) and g(x,r,d)\n",
    "\n",
    "def f(x,r,d): \n",
    "    if r**2 - x**2 < 1e-15:\n",
    "        return w0 + 2*d\n",
    "    else: return w0 + 2*d - 2*sqrt(r**2 - x**2)\n",
    "\n",
    "def g(x,r,d): return 1/f(x,r,d)"
   ]
  },
  {
   "cell_type": "code",
   "execution_count": 4,
   "metadata": {},
   "outputs": [],
   "source": [
    "# define functions of lower bound and upper bounds, x0(r,d) and xf(r,d)\n",
    "\n",
    "def xf(r,d):\n",
    "    if r**2 - d**2 < 1e-15:\n",
    "        return 0\n",
    "    else: return sqrt(r**2 - d**2)\n",
    "\n",
    "def x0(r,d): return -xf(r,d)"
   ]
  },
  {
   "cell_type": "markdown",
   "metadata": {},
   "source": [
    "As with case 2a, we define:\n",
    "\n",
    "$$\\int_{x_0}^{x_f}{g(x,r,d) dx} \\approx G_n(r,d) =  \\frac{x_f - x_0}{3}\\left(g(x_0,r,d)+g(x_f,r,d)+2\\sum_{i = 1}^{n-2}g(x_{2i},r,d)+4\\sum_{i = 1}^{n-1}g(x_{2i-1},r,d)\\right)$$"
   ]
  },
  {
   "cell_type": "code",
   "execution_count": 32,
   "metadata": {},
   "outputs": [],
   "source": [
    "# define simpsons rule to carry out numerical integration\n",
    "# size MUST be an odd number\n",
    "# **vars are all additional arguments needed to evaluate the passed function\n",
    "\n",
    "def simpsons(function,size,lower_bound,upper_bound, **vars):\n",
    "    delta_x = (upper_bound - lower_bound)/(size - 1)\n",
    "    x = np.linspace(lower_bound,upper_bound,size)\n",
    "    points = (function(x, **vars))\n",
    "\n",
    "    result = (delta_x/3)*(points[0] + points[-1] + 2*sum(points[2:size - 2:2]) + 4*sum(points[1:size - 1:2]))\n",
    "    return result"
   ]
  },
  {
   "cell_type": "code",
   "execution_count": 31,
   "metadata": {},
   "outputs": [
    {
     "name": "stdout",
     "output_type": "stream",
     "text": [
      "4.4108427377215436e-17\n"
     ]
    }
   ],
   "source": [
    "a = 0\n",
    "b = pi\n",
    "n = 11\n",
    "x = np.linspace(a,b,n)\n",
    "def k(x,r): return np.sin(x*r)\n",
    "\n",
    "I_simp = simpsons(k,n,a,b, r = 2)\n",
    "print(I_simp)\n"
   ]
  },
  {
   "cell_type": "markdown",
   "metadata": {},
   "source": [
    "To define the volume, we setup our geometry as such:\n",
    "\n",
    "![](IMG_0748.jpg)\n",
    "\n",
    "We can find out the angle $\\theta$ using the identity:\n",
    "$$\\sin{\\theta} = \\frac{x_f}{r}$$\n",
    "$$\\therefore \\theta = \\arcsin{\\frac{\\sqrt{r^2 - d^2}}{r}}$$\n",
    "\n",
    "So, the area of the segment is:\n",
    "$$A = 2\\left(\\frac{r^2}{2}\\arcsin{\\left(\\frac{\\sqrt{r^2 - d^2}}{r}\\right)} - \\frac{d}{2}\\sqrt{r^2 - d^2}\\right) = r^2\\arcsin{\\left(\\frac{\\sqrt{r^2 - d^2}}{r}\\right)} - d\\sqrt{r^2 - d^2}$$\n",
    "\n",
    "The volume is then:\n",
    "$$V(r,d) = hA_{\\text{face}} = h(w_0l - 2A) = 2(w_0h + d)\\sqrt{r^2 - d^2} - 2r^2h\\arcsin{\\left(\\frac{\\sqrt{r^2 - d^2}}{r}\\right)}$$\n",
    "\n",
    "For convenience, as done in case 2a, we leave the $h$ out of the volume function and lump it with the other constants. Redefine:\n",
    "\n",
    "$$V(r,d) = A_{\\text{face}} = (w_0l - 2A) = 2(w_0 + d)\\sqrt{r^2 - d^2} - 2r^2\\arcsin{\\left(\\frac{\\sqrt{r^2 - d^2}}{r}\\right)}$$\n",
    "$$K = \\frac{\\rho_dh^2}{I^2\\rho_r\\Delta{t}}\\left(c_p\\left(T_m - T_\\infty\\right) + L_f\\right)$$\n",
    "\n",
    "Let:\n",
    "\n",
    "$$\\frac{G_n(r,d)}{V(r,d)} = H_n(r,d)$$"
   ]
  },
  {
   "cell_type": "code",
   "execution_count": 34,
   "metadata": {},
   "outputs": [],
   "source": [
    "# define function of volume, V(r,d)\n",
    "def V(r,d): return 2*(w0 + d)*sqrt(r**2 - d**2) - 2*r**2*asin(sqrt(r**2 - d**2)/r)\n",
    "\n",
    "# define lumped function H(r,d)\n",
    "def H(function,size,lower_bound,upper_bound, **vars): return simpsons(function,size,lower_bound,upper_bound, **vars)/V(**vars)\n",
    "    "
   ]
  },
  {
   "cell_type": "code",
   "execution_count": 35,
   "metadata": {},
   "outputs": [],
   "source": [
    "# define the upper and lower limits for d, ul(r) and ll(r)\n",
    "\n",
    "def ll(r): return (2*r - w0)/2\n",
    "def ul(r): return r"
   ]
  },
  {
   "cell_type": "code",
   "execution_count": 38,
   "metadata": {},
   "outputs": [],
   "source": [
    "# the lumped constant\n",
    "K = rho_d*h**2*(cp*(Tm - Tamb) + Lf)/(I**2*rho_r*dt)"
   ]
  },
  {
   "cell_type": "markdown",
   "metadata": {},
   "source": [
    "We now build a convergence algorithm for each tested cases of r:"
   ]
  },
  {
   "cell_type": "code",
   "execution_count": 40,
   "metadata": {},
   "outputs": [],
   "source": [
    "def find_zero(function,eps,init_value,alpha, **vars):\n",
    "    error = 1\n",
    "    k = 1\n",
    "    result = init_value\n",
    "\n",
    "    while abs(error) > eps:\n",
    "        error = function(**vars)\n",
    "        result -= alpha/k*error\n",
    "        k += 1\n",
    "\n",
    "    return result"
   ]
  },
  {
   "cell_type": "code",
   "execution_count": null,
   "metadata": {},
   "outputs": [],
   "source": [
    "R = "
   ]
  }
 ],
 "metadata": {
  "kernelspec": {
   "display_name": "base",
   "language": "python",
   "name": "python3"
  },
  "language_info": {
   "codemirror_mode": {
    "name": "ipython",
    "version": 3
   },
   "file_extension": ".py",
   "mimetype": "text/x-python",
   "name": "python",
   "nbconvert_exporter": "python",
   "pygments_lexer": "ipython3",
   "version": "3.11.5"
  }
 },
 "nbformat": 4,
 "nbformat_minor": 2
}
